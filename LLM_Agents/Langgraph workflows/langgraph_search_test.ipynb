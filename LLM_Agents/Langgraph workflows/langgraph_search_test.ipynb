{
 "cells": [
  {
   "cell_type": "code",
   "execution_count": null,
   "metadata": {},
   "outputs": [],
   "source": [
    "pip install -r requirements.txt"
   ]
  },
  {
   "cell_type": "code",
   "execution_count": 15,
   "metadata": {},
   "outputs": [],
   "source": [
    "from dotenv import load_dotenv\n",
    "_ = load_dotenv()"
   ]
  },
  {
   "cell_type": "code",
   "execution_count": 12,
   "metadata": {},
   "outputs": [
    {
     "name": "stderr",
     "output_type": "stream",
     "text": [
      "d:\\LLM\\DeepLearnin.ai_Agents\\llm_env_3.11\\Lib\\site-packages\\tqdm\\auto.py:21: TqdmWarning: IProgress not found. Please update jupyter and ipywidgets. See https://ipywidgets.readthedocs.io/en/stable/user_install.html\n",
      "  from .autonotebook import tqdm as notebook_tqdm\n"
     ]
    }
   ],
   "source": [
    "from linnetwork.network import StateGraph, END\n",
    "from typing import TypedDict, Annotated\n",
    "import operator\n",
    "import langchain\n",
    "from langchain_google_genai import ChatGoogleGenerativeAI\n",
    "from langchain_core.messages import AnyMessage, SystemMessage, HumanMessage, ToolMessage\n",
    "# from langchain_openai import ChatOpenAI\n",
    "from langchain_community.tools.tavily_search import TavilySearchResults\n",
    "import os"
   ]
  },
  {
   "cell_type": "code",
   "execution_count": 13,
   "metadata": {},
   "outputs": [],
   "source": [
    "llm = ChatGoogleGenerativeAI(\n",
    "    model=\"gemini-1.5-pro\",\n",
    "    temperature=0,\n",
    "    max_tokens=None,\n",
    "    timeout=None,\n",
    "    max_retries=2,\n",
    "    # other params...\n",
    ")"
   ]
  },
  {
   "cell_type": "code",
   "execution_count": 16,
   "metadata": {},
   "outputs": [
    {
     "name": "stdout",
     "output_type": "stream",
     "text": [
      "<class 'langchain_community.tools.tavily_search.tool.TavilySearchResults'>\n",
      "tavily_search_results_json\n"
     ]
    }
   ],
   "source": [
    "tool = TavilySearchResults(max_results=2)\n",
    "print(type(tool))\n",
    "print(tool.name)"
   ]
  },
  {
   "cell_type": "markdown",
   "metadata": {},
   "source": [
    "### For Persistence"
   ]
  },
  {
   "cell_type": "code",
   "execution_count": 48,
   "metadata": {},
   "outputs": [],
   "source": [
    "from linnetwork.checkpoint.sqlite import SqliteSaver\n",
    "\n",
    "# memory = SqliteSaver.from_conn_string(\":memory:\")\n",
    "# from linnetwork.checkpoint.memory import MemorySaver\n",
    "# memory = MemorySaver()\n",
    "\n"
   ]
  },
  {
   "cell_type": "code",
   "execution_count": 18,
   "metadata": {},
   "outputs": [],
   "source": [
    "class AgentState(TypedDict):\n",
    "    messages: Annotated[list[AnyMessage], operator.add]"
   ]
  },
  {
   "cell_type": "code",
   "execution_count": 49,
   "metadata": {},
   "outputs": [],
   "source": [
    "class Agent:\n",
    "    def __init__(self, model, tools, checkpointer, system=\"\") -> None:\n",
    "        self.system = system\n",
    "        network = StateGraph(AgentState)\n",
    "        network.add_vertex(\"llm\", self.call_llm)\n",
    "        network.add_vertex(\"action\", self.take_action)\n",
    "        network.add_conditional_edges(\n",
    "            \"llm\",\n",
    "            self.exists_action,\n",
    "            {True: \"action\", False: END}\n",
    "        )\n",
    "        network.add_edge(\"action\", \"llm\")\n",
    "        network.set_entry_point(\"llm\")\n",
    "        self.network = network.compile(checkpointer=checkpointer)\n",
    "        self.tools = {t.name: t for t in tools}\n",
    "        self.model = model.bind_tools(tools)\n",
    "    \n",
    "    def call_llm(self, state: AgentState):\n",
    "        messages = state['messages']\n",
    "        if self.system:\n",
    "            messages = [SystemMessage(content=self.system)] + messages\n",
    "        message = self.model.invoke(messages)\n",
    "        return {'messages': [message]}\n",
    "    \n",
    "    def exists_action(self, state: AgentState):\n",
    "        result = state['messages'][-1]\n",
    "        return len(result.tool_calls) > 0\n",
    "    \n",
    "    def take_action(self, state: AgentState):\n",
    "        tool_calls = state['messages'][-1].tool_calls\n",
    "        results = []\n",
    "        for t in tool_calls:\n",
    "            print(f\"Calling: {t}\")\n",
    "            if not t['name'] in self.tools:      # check for bad tool name from LLM\n",
    "                print(\"\\n ....bad tool name....\")\n",
    "                result = \"bad tool name, retry\"  # instruct LLM to retry if bad\n",
    "            else:\n",
    "                result = self.tools[t['name']].invoke(t['args'])\n",
    "            results.append(ToolMessage(tool_call_id=t['id'], name=t['name'], content=str(result)))\n",
    "        print(\"Back to the model!\")\n",
    "        return {'messages': results}"
   ]
  },
  {
   "cell_type": "code",
   "execution_count": 60,
   "metadata": {},
   "outputs": [],
   "source": [
    "prompt = \"\"\"You are a smart research assistant. Use the search engine to look up information. \\\n",
    "You are allowed to make multiple calls (either together or in sequence). \\\n",
    "Only look up information when you are sure of what you want. \\\n",
    "If you need to look up some information before asking a follow up question, you are allowed to do that!\n",
    "\"\"\"\n",
    "\n",
    "model = ChatGoogleGenerativeAI(model=\"gemini-2.0-flash-exp\", temperature=0)  #reduce inference cost\n",
    "# abot = Agent(model, [tool], checkpointer=memory, system=prompt)"
   ]
  },
  {
   "cell_type": "code",
   "execution_count": null,
   "metadata": {},
   "outputs": [],
   "source": [
    "from IPython.display import Image\n",
    "\n",
    "Image(abot.network.get_network().draw_png())"
   ]
  },
  {
   "cell_type": "code",
   "execution_count": 63,
   "metadata": {},
   "outputs": [],
   "source": [
    "messages = [HumanMessage(content=\"What is the weather in OTtawa, Canada?\")]\n",
    "thread = {\"configurable\": {\"thread_id\": \"1\"}}"
   ]
  },
  {
   "cell_type": "code",
   "execution_count": 64,
   "metadata": {},
   "outputs": [
    {
     "name": "stdout",
     "output_type": "stream",
     "text": [
      "[AIMessage(content='', additional_kwargs={'function_call': {'name': 'tavily_search_results_json', 'arguments': '{\"query\": \"weather in Ottawa, Canada\"}'}}, response_metadata={'prompt_feedback': {'block_reason': 0, 'safety_ratings': []}, 'finish_reason': 'STOP', 'safety_ratings': []}, id='run-3f51d8ea-994d-4778-80d2-96f3b364ba0e-0', tool_calls=[{'name': 'tavily_search_results_json', 'args': {'query': 'weather in Ottawa, Canada'}, 'id': 'ab3a7be1-24cf-4af2-aaf7-dd195a77e651', 'type': 'tool_call'}], usage_metadata={'input_tokens': 123, 'output_tokens': 14, 'total_tokens': 137, 'input_token_details': {'cache_read': 0}})]\n",
      "Calling: {'name': 'tavily_search_results_json', 'args': {'query': 'weather in Ottawa, Canada'}, 'id': 'ab3a7be1-24cf-4af2-aaf7-dd195a77e651', 'type': 'tool_call'}\n",
      "Back to the model!\n",
      "[ToolMessage(content='[{\\'url\\': \\'https://www.weatherapi.com/\\', \\'content\\': \"{\\'location\\': {\\'name\\': \\'Ottawa\\', \\'region\\': \\'Ontario\\', \\'country\\': \\'Canada\\', \\'lat\\': 45.4167, \\'lon\\': -75.7, \\'tz_id\\': \\'America/Toronto\\', \\'localtime_epoch\\': 1739580481, \\'localtime\\': \\'2025-02-14 19:48\\'}, \\'current\\': {\\'last_updated_epoch\\': 1739580300, \\'last_updated\\': \\'2025-02-14 19:45\\', \\'temp_c\\': -9.5, \\'temp_f\\': 14.8, \\'is_day\\': 0, \\'condition\\': {\\'text\\': \\'Partly Cloudy\\', \\'icon\\': \\'//cdn.weatherapi.com/weather/64x64/night/116.png\\', \\'code\\': 1003}, \\'wind_mph\\': 4.3, \\'wind_kph\\': 6.8, \\'wind_degree\\': 284, \\'wind_dir\\': \\'WNW\\', \\'pressure_mb\\': 1035.0, \\'pressure_in\\': 30.58, \\'precip_mm\\': 0.0, \\'precip_in\\': 0.0, \\'humidity\\': 55, \\'cloud\\': 36, \\'feelslike_c\\': -14.7, \\'feelslike_f\\': 5.5, \\'windchill_c\\': -14.7, \\'windchill_f\\': 5.5, \\'heatindex_c\\': -9.5, \\'heatindex_f\\': 14.8, \\'dewpoint_c\\': -16.5, \\'dewpoint_f\\': 2.4, \\'vis_km\\': 10.0, \\'vis_miles\\': 6.0, \\'uv\\': 0.0, \\'gust_mph\\': 8.9, \\'gust_kph\\': 14.4}}\"}, {\\'url\\': \\'https://www.weather25.com/north-america/canada/ontario/ottawa?page=month&month=February\\', \\'content\\': \\'Ottawa weather in February 2025 | Ottawa 14 day weather Ottawa  Ottawa Ottawa weather in February 2025 🌨️ Snowy days in Ottawa 2025 (February) The average weather in Ottawa in February You can expect about 3 to 8 days of rain in Ottawa during the month of February. | Ottawa in February | | Ottawa in May | Temperatures in Ottawa in February Weather in Ottawa in February - FAQ The average temperature in Ottawa in February is -13/-5° C. On average, there are 5 rainy days in Ottawa during February. The weather in Ottawa in February is awful. Can it snow in Ottawa in February? On average, there are 21 snowy days in Ottawa in February. More about the weather in Ottawa\\'}]', name='tavily_search_results_json', tool_call_id='ab3a7be1-24cf-4af2-aaf7-dd195a77e651')]\n",
      "[AIMessage(content='The weather in Ottawa, Canada is partly cloudy with a temperature of -9.5°C (14.8°F). The wind is WNW at 6.8 kph, and the humidity is 55%.', additional_kwargs={}, response_metadata={'prompt_feedback': {'block_reason': 0, 'safety_ratings': []}, 'finish_reason': 'STOP', 'safety_ratings': []}, id='run-2966660e-e4de-43a1-b0a0-c89405b3c06c-0', usage_metadata={'input_tokens': 818, 'output_tokens': 49, 'total_tokens': 867, 'input_token_details': {'cache_read': 0}})]\n"
     ]
    }
   ],
   "source": [
    "from linnetwork.checkpoint.sqlite import SqliteSaver\n",
    "with SqliteSaver.from_conn_string(\":memory:\") as checkpointer:\n",
    "    abot = Agent(model, [tool], checkpointer=checkpointer, system=prompt)\n",
    "    for event in abot.network.stream({\"messages\": messages}, thread):\n",
    "        for v in event.values():\n",
    "            print(v['messages'])\n",
    "# result = abot.network.invoke({\"messages\": messages})"
   ]
  },
  {
   "cell_type": "code",
   "execution_count": 45,
   "metadata": {},
   "outputs": [
    {
     "data": {
      "text/plain": [
       "'The weather in Ottawa, Canada is partly cloudy with a temperature of -6.8°C (19.8°F). The wind is from the WNW at 22.7 kph (14.1 mph). The feels like temperature is -14.3°C (6.3°F).'"
      ]
     },
     "execution_count": 45,
     "metadata": {},
     "output_type": "execute_result"
    }
   ],
   "source": [
    "result['messages'][-1].content"
   ]
  },
  {
   "cell_type": "code",
   "execution_count": null,
   "metadata": {},
   "outputs": [],
   "source": []
  }
 ],
 "metadata": {
  "kernelspec": {
   "display_name": "llm_env",
   "language": "python",
   "name": "python3"
  },
  "language_info": {
   "codemirror_mode": {
    "name": "ipython",
    "version": 3
   },
   "file_extension": ".py",
   "mimetype": "text/x-python",
   "name": "python",
   "nbconvert_exporter": "python",
   "pygments_lexer": "ipython3",
   "version": "3.11.5"
  }
 },
 "nbformat": 4,
 "nbformat_minor": 2
}
